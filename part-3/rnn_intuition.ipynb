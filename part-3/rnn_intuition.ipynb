{
 "cells": [
  {
   "cell_type": "markdown",
   "id": "round-sapphire",
   "metadata": {},
   "source": [
    "# CNN Plan of Attack and Intuition\n",
    "\n",
    "The Ultimate Guide to Recurrent Neural Networks (RNN) - https://www.superdatascience.com/blogs/the-ultimate-guide-to-recurrent-neural-networks-rnn\n",
    "\n",
    "\n",
    "## Plan Of Attack\n",
    "1. The idea behind Recurrent Neural Network\n",
    "2. The vanishing gradient problem\n",
    "3. Long Short-Term Memory (LSTM)\n",
    "4. Practical Intuition\n",
    "\n",
    "EXTRA: LSTM Variations\n"
   ]
  },
  {
   "cell_type": "code",
   "execution_count": null,
   "id": "manual-cabinet",
   "metadata": {},
   "outputs": [],
   "source": []
  }
 ],
 "metadata": {
  "kernelspec": {
   "display_name": "Python 3",
   "language": "python",
   "name": "python3"
  },
  "language_info": {
   "codemirror_mode": {
    "name": "ipython",
    "version": 3
   },
   "file_extension": ".py",
   "mimetype": "text/x-python",
   "name": "python",
   "nbconvert_exporter": "python",
   "pygments_lexer": "ipython3",
   "version": "3.8.8"
  }
 },
 "nbformat": 4,
 "nbformat_minor": 5
}
