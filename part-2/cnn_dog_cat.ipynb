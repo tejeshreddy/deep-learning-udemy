{
 "cells": [
  {
   "cell_type": "markdown",
   "id": "technical-policy",
   "metadata": {},
   "source": [
    "# Convolution Neural Network\n",
    "\n",
    "In this notebook we will build a CNN model to identify weather an image is a dog or a cat."
   ]
  },
  {
   "cell_type": "markdown",
   "id": "earned-token",
   "metadata": {},
   "source": [
    "## Contents"
   ]
  },
  {
   "cell_type": "markdown",
   "id": "colonial-gothic",
   "metadata": {},
   "source": [
    "## Importing the libraries"
   ]
  },
  {
   "cell_type": "code",
   "execution_count": 12,
   "id": "verbal-loading",
   "metadata": {},
   "outputs": [],
   "source": [
    "import tensorflow as tf\n",
    "from keras.preprocessing.image import ImageDataGenerator"
   ]
  },
  {
   "cell_type": "code",
   "execution_count": 13,
   "id": "cardiac-wedding",
   "metadata": {},
   "outputs": [
    {
     "data": {
      "text/plain": [
       "'2.4.1'"
      ]
     },
     "execution_count": 13,
     "metadata": {},
     "output_type": "execute_result"
    }
   ],
   "source": [
    "tf.__version__"
   ]
  },
  {
   "cell_type": "markdown",
   "id": "experimental-rough",
   "metadata": {},
   "source": [
    "## Part 1 - Data Preprocessing"
   ]
  },
  {
   "cell_type": "markdown",
   "id": "common-tourist",
   "metadata": {},
   "source": [
    "In this step we will be augmenting the images in the training set as to help the CNN model train in a more general fashion and not on the images as it is to prevent over-fitting"
   ]
  },
  {
   "cell_type": "markdown",
   "id": "latest-pension",
   "metadata": {},
   "source": [
    "### Preprocessing the training dataset"
   ]
  },
  {
   "cell_type": "code",
   "execution_count": 14,
   "id": "floral-identifier",
   "metadata": {},
   "outputs": [
    {
     "name": "stdout",
     "output_type": "stream",
     "text": [
      "Found 8000 images belonging to 2 classes.\n"
     ]
    }
   ],
   "source": [
    "train_datagen = ImageDataGenerator(rescale=1./255,\n",
    "                                  shear_range=0.2,\n",
    "                                  zoom_range=0.2,\n",
    "                                  horizontal_flip=True)\n",
    "\n",
    "train_set = train_datagen.flow_from_directory(\"dataset/training_set\",\n",
    "                                             target_size=(64, 64),\n",
    "                                             batch_size=32,\n",
    "                                             class_mode=\"binary\")"
   ]
  },
  {
   "cell_type": "markdown",
   "id": "hired-concentrate",
   "metadata": {},
   "source": [
    "### Preprocessing the test dataset"
   ]
  },
  {
   "cell_type": "code",
   "execution_count": 15,
   "id": "municipal-details",
   "metadata": {},
   "outputs": [
    {
     "name": "stdout",
     "output_type": "stream",
     "text": [
      "Found 2000 images belonging to 2 classes.\n"
     ]
    }
   ],
   "source": [
    "test_datagen = ImageDataGenerator(rescale=1./255)\n",
    "test_set = test_datagen.flow_from_directory(\"dataset/test_set\",\n",
    "                                           target_size=(64, 64),\n",
    "                                           batch_size=32,\n",
    "                                           class_mode=\"binary\")"
   ]
  },
  {
   "cell_type": "markdown",
   "id": "exceptional-dryer",
   "metadata": {},
   "source": [
    "## Part 2 - Building the CNN"
   ]
  },
  {
   "cell_type": "code",
   "execution_count": 21,
   "id": "norman-samoa",
   "metadata": {},
   "outputs": [],
   "source": [
    "# Imports \n",
    "from tensorflow.keras.models import Sequential\n",
    "from tensorflow.keras.layers import Dense, Conv2D, MaxPool2D, Flatten"
   ]
  },
  {
   "cell_type": "code",
   "execution_count": 22,
   "id": "gothic-police",
   "metadata": {},
   "outputs": [],
   "source": [
    "# 1. Initialising the CNN\n",
    "cnn = Sequential()\n",
    "\n",
    "# 2. Adding the convolution layers\n",
    "cnn.add(Conv2D(filters=32, kernel_size=3, activation=\"relu\", input_shape=[64, 64, 3]))\n",
    "\n",
    "# 3. Pooling layers\n",
    "cnn.add(MaxPool2D(pool_size=2, strides=2))\n",
    "\n",
    "# 4. Convolution layer\n",
    "cnn.add(Conv2D(filters=32, kernel_size=3, activation=\"relu\"))\n",
    "\n",
    "# 5. Pooling layer\n",
    "cnn.add(MaxPool2D(pool_size=2, strides=2))\n",
    "\n",
    "# 6. Flattening\n",
    "cnn.add(Flatten())\n",
    "\n",
    "# 7. Fully Connected\n",
    "cnn.add(Dense(units=128, activation=\"relu\"))\n",
    "\n",
    "# 8. Output\n",
    "cnn.add(Dense(units=1, activation=\"sigmoid\"))"
   ]
  },
  {
   "cell_type": "markdown",
   "id": "talented-criminal",
   "metadata": {},
   "source": [
    "## Part 3 - Training the CNN"
   ]
  },
  {
   "cell_type": "code",
   "execution_count": 24,
   "id": "third-indiana",
   "metadata": {},
   "outputs": [],
   "source": [
    "cnn.compile(optimizer=\"adam\",\n",
    "            loss=\"binary_crossentropy\",\n",
    "            metrics=[\"accuracy\"])"
   ]
  },
  {
   "cell_type": "code",
   "execution_count": 25,
   "id": "arabic-porcelain",
   "metadata": {},
   "outputs": [
    {
     "name": "stdout",
     "output_type": "stream",
     "text": [
      "Epoch 1/25\n",
      "250/250 [==============================] - 44s 175ms/step - loss: 0.6905 - accuracy: 0.5474 - val_loss: 0.5956 - val_accuracy: 0.6840\n",
      "Epoch 2/25\n",
      "250/250 [==============================] - 58s 233ms/step - loss: 0.5923 - accuracy: 0.6830 - val_loss: 0.5469 - val_accuracy: 0.7250\n",
      "Epoch 3/25\n",
      "250/250 [==============================] - 69s 276ms/step - loss: 0.5615 - accuracy: 0.7172 - val_loss: 0.5291 - val_accuracy: 0.7390\n",
      "Epoch 4/25\n",
      "250/250 [==============================] - 72s 286ms/step - loss: 0.5298 - accuracy: 0.7384 - val_loss: 0.5551 - val_accuracy: 0.7240\n",
      "Epoch 5/25\n",
      "250/250 [==============================] - 68s 274ms/step - loss: 0.5020 - accuracy: 0.7549 - val_loss: 0.4947 - val_accuracy: 0.7630\n",
      "Epoch 6/25\n",
      "250/250 [==============================] - 73s 293ms/step - loss: 0.4931 - accuracy: 0.7599 - val_loss: 0.4891 - val_accuracy: 0.7620\n",
      "Epoch 7/25\n",
      "250/250 [==============================] - 71s 286ms/step - loss: 0.4741 - accuracy: 0.7698 - val_loss: 0.4980 - val_accuracy: 0.7635\n",
      "Epoch 8/25\n",
      "250/250 [==============================] - 73s 294ms/step - loss: 0.4598 - accuracy: 0.7736 - val_loss: 0.4724 - val_accuracy: 0.7775\n",
      "Epoch 9/25\n",
      "250/250 [==============================] - 79s 317ms/step - loss: 0.4520 - accuracy: 0.7845 - val_loss: 0.4617 - val_accuracy: 0.7845\n",
      "Epoch 10/25\n",
      "250/250 [==============================] - 69s 278ms/step - loss: 0.4355 - accuracy: 0.7894 - val_loss: 0.4779 - val_accuracy: 0.7865\n",
      "Epoch 11/25\n",
      "250/250 [==============================] - 53s 211ms/step - loss: 0.4405 - accuracy: 0.7912 - val_loss: 0.4506 - val_accuracy: 0.7925\n",
      "Epoch 12/25\n",
      "250/250 [==============================] - 53s 211ms/step - loss: 0.4150 - accuracy: 0.8078 - val_loss: 0.4558 - val_accuracy: 0.7915\n",
      "Epoch 13/25\n",
      "250/250 [==============================] - 76s 305ms/step - loss: 0.4079 - accuracy: 0.8175 - val_loss: 0.4594 - val_accuracy: 0.7805\n",
      "Epoch 14/25\n",
      "250/250 [==============================] - 66s 266ms/step - loss: 0.4119 - accuracy: 0.8160 - val_loss: 0.4852 - val_accuracy: 0.7870\n",
      "Epoch 15/25\n",
      "250/250 [==============================] - 58s 231ms/step - loss: 0.4063 - accuracy: 0.8125 - val_loss: 0.4704 - val_accuracy: 0.7890\n",
      "Epoch 16/25\n",
      "250/250 [==============================] - 76s 302ms/step - loss: 0.3790 - accuracy: 0.8320 - val_loss: 0.4499 - val_accuracy: 0.8070\n",
      "Epoch 17/25\n",
      "250/250 [==============================] - 69s 277ms/step - loss: 0.3673 - accuracy: 0.8349 - val_loss: 0.4525 - val_accuracy: 0.8060\n",
      "Epoch 18/25\n",
      "250/250 [==============================] - 72s 286ms/step - loss: 0.3600 - accuracy: 0.8365 - val_loss: 0.4638 - val_accuracy: 0.7985\n",
      "Epoch 19/25\n",
      "250/250 [==============================] - 68s 272ms/step - loss: 0.3551 - accuracy: 0.8442 - val_loss: 0.4662 - val_accuracy: 0.7950\n",
      "Epoch 20/25\n",
      "250/250 [==============================] - 54s 218ms/step - loss: 0.3391 - accuracy: 0.8512 - val_loss: 0.4544 - val_accuracy: 0.8055\n",
      "Epoch 21/25\n",
      "250/250 [==============================] - 57s 229ms/step - loss: 0.3306 - accuracy: 0.8557 - val_loss: 0.4627 - val_accuracy: 0.8115\n",
      "Epoch 22/25\n",
      "250/250 [==============================] - 74s 294ms/step - loss: 0.3329 - accuracy: 0.8472 - val_loss: 0.4659 - val_accuracy: 0.8070\n",
      "Epoch 23/25\n",
      "250/250 [==============================] - 71s 283ms/step - loss: 0.3132 - accuracy: 0.8610 - val_loss: 0.5232 - val_accuracy: 0.7850\n",
      "Epoch 24/25\n",
      "250/250 [==============================] - 72s 288ms/step - loss: 0.3080 - accuracy: 0.8691 - val_loss: 0.4650 - val_accuracy: 0.8040\n",
      "Epoch 25/25\n",
      "250/250 [==============================] - 76s 305ms/step - loss: 0.2967 - accuracy: 0.8695 - val_loss: 0.5119 - val_accuracy: 0.7935\n"
     ]
    }
   ],
   "source": [
    "history = cnn.fit(x=train_set, \n",
    "                  validation_data=test_set, \n",
    "                  epochs=25)"
   ]
  },
  {
   "cell_type": "markdown",
   "id": "adjacent-affect",
   "metadata": {},
   "source": [
    "## Part 4 - Making a prediction"
   ]
  },
  {
   "cell_type": "code",
   "execution_count": 34,
   "id": "advanced-buyer",
   "metadata": {},
   "outputs": [],
   "source": [
    "import numpy as np\n",
    "from keras.preprocessing import image\n",
    "\n",
    "test_image = image.load_img(\"dataset/single_prediction/cat_or_dog_1.jpg\",\n",
    "                           target_size=(64, 64))\n",
    "\n",
    "test_image = image.img_to_array(test_image)\n",
    "test_image = np.expand_dims(test_image, axis=0)\n",
    "result = cnn.predict(test_image/255.0)"
   ]
  },
  {
   "cell_type": "code",
   "execution_count": 38,
   "id": "bacterial-visiting",
   "metadata": {},
   "outputs": [
    {
     "name": "stdout",
     "output_type": "stream",
     "text": [
      "Dog!\n"
     ]
    }
   ],
   "source": [
    "if result[0][0] > 0.5:\n",
    "    print(\"Dog!\")\n",
    "else:\n",
    "    print(\"Cat!\")"
   ]
  },
  {
   "cell_type": "code",
   "execution_count": 39,
   "id": "infrared-annotation",
   "metadata": {},
   "outputs": [
    {
     "name": "stdout",
     "output_type": "stream",
     "text": [
      "[[0.9998388]]\n",
      "{'cats': 0, 'dogs': 1}\n"
     ]
    }
   ],
   "source": [
    "print(result)\n",
    "print(train_set.class_indices)"
   ]
  },
  {
   "cell_type": "code",
   "execution_count": null,
   "id": "august-giving",
   "metadata": {},
   "outputs": [],
   "source": []
  }
 ],
 "metadata": {
  "kernelspec": {
   "display_name": "Python 3",
   "language": "python",
   "name": "python3"
  },
  "language_info": {
   "codemirror_mode": {
    "name": "ipython",
    "version": 3
   },
   "file_extension": ".py",
   "mimetype": "text/x-python",
   "name": "python",
   "nbconvert_exporter": "python",
   "pygments_lexer": "ipython3",
   "version": "3.8.8"
  }
 },
 "nbformat": 4,
 "nbformat_minor": 5
}
