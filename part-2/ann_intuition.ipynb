{
 "cells": [
  {
   "cell_type": "markdown",
   "id": "dominant-minnesota",
   "metadata": {},
   "source": [
    "# The Ultimate Guide to Artificial Neural Networks (ANN)\n",
    "\n",
    "This blog talks about the complete working of an Artificial Neural Network - https://www.superdatascience.com/blogs/the-ultimate-guide-to-artificial-neural-networks-ann\n",
    "\n",
    "\n",
    "The plan of attack for this module is\n",
    "1. The neuron\n",
    "2. The activation function\n",
    "3. How does the Neural Network work? (Example)\n",
    "4. How do the Neural Network learn?\n",
    "5. Gradient Descent\n",
    "6. Stochastic Gradient Descent\n",
    "7. Backpropagation"
   ]
  },
  {
   "cell_type": "code",
   "execution_count": null,
   "id": "orange-earthquake",
   "metadata": {},
   "outputs": [],
   "source": []
  }
 ],
 "metadata": {
  "kernelspec": {
   "display_name": "Python 3",
   "language": "python",
   "name": "python3"
  },
  "language_info": {
   "codemirror_mode": {
    "name": "ipython",
    "version": 3
   },
   "file_extension": ".py",
   "mimetype": "text/x-python",
   "name": "python",
   "nbconvert_exporter": "python",
   "pygments_lexer": "ipython3",
   "version": "3.8.8"
  }
 },
 "nbformat": 4,
 "nbformat_minor": 5
}
