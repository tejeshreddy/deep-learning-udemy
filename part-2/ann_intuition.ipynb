{
 "cells": [
  {
   "cell_type": "markdown",
   "id": "affecting-billy",
   "metadata": {},
   "source": [
    "# The Ultimate Guide to Artificial Neural Networks (ANN)\n",
    "\n",
    "This blog talks about the complete working of an Artificial Neural Network - https://www.superdatascience.com/blogs/the-ultimate-guide-to-artificial-neural-networks-ann\n",
    "\n",
    "\n",
    "The plan of attack for this module is\n",
    "1. The neuron\n",
    "2. The activation function\n",
    "3. How does the Neural Network work? (Example)\n",
    "4. How do the Neural Network learn?\n",
    "5. Gradient Descent\n",
    "6. Stochastic Gradient Descent\n",
    "7. Backpropagation"
   ]
  },
  {
   "cell_type": "markdown",
   "id": "executed-piece",
   "metadata": {},
   "source": [
    "## List of all the cost functions used in neural network\n",
    "\n",
    "The below link talks about the list of all the cost functions that are used in a neural network along with its application\n",
    "\n",
    "https://stats.stackexchange.com/questions/154879/a-list-of-cost-functions-used-in-neural-networks-alongside-applications"
   ]
  },
  {
   "cell_type": "markdown",
   "id": "judicial-wallpaper",
   "metadata": {},
   "source": [
    "## Article explaining a list of all the activation functions\n",
    "\n",
    "https://towardsdatascience.com/activation-functions-neural-networks-1cbd9f8d91d6"
   ]
  },
  {
   "cell_type": "markdown",
   "id": "elegant-nitrogen",
   "metadata": {},
   "source": [
    "## A Neural Network in 13 lines of Python (Part 2 - Gradient Descent)\n",
    "\n",
    "\n",
    "This article talks about a neural netwokr issue and as to how we can solve them\n",
    "\n",
    "https://iamtrask.github.io/2015/07/27/python-network-part2/"
   ]
  },
  {
   "cell_type": "markdown",
   "id": "judicial-confirmation",
   "metadata": {},
   "source": [
    "## How the backpropagation algorithm works\n",
    "\n",
    "This is a math heavy article that talks about how the neurons update the weights and how the back propagation works\n",
    "\n",
    "> This is also a free book on Neural Networks and Deep Learning\n",
    "\n",
    "http://neuralnetworksanddeeplearning.com/chap2.html"
   ]
  },
  {
   "cell_type": "code",
   "execution_count": null,
   "id": "weighted-hacker",
   "metadata": {},
   "outputs": [],
   "source": []
  },
  {
   "cell_type": "code",
   "execution_count": null,
   "id": "colored-array",
   "metadata": {},
   "outputs": [],
   "source": []
  }
 ],
 "metadata": {
  "kernelspec": {
   "display_name": "Python 3",
   "language": "python",
   "name": "python3"
  },
  "language_info": {
   "codemirror_mode": {
    "name": "ipython",
    "version": 3
   },
   "file_extension": ".py",
   "mimetype": "text/x-python",
   "name": "python",
   "nbconvert_exporter": "python",
   "pygments_lexer": "ipython3",
   "version": "3.8.8"
  }
 },
 "nbformat": 4,
 "nbformat_minor": 5
}
