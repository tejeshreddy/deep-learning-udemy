{
 "cells": [
  {
   "cell_type": "markdown",
   "id": "tough-patent",
   "metadata": {},
   "source": [
    "# CNN Plan of Attack and Intuition"
   ]
  },
  {
   "cell_type": "markdown",
   "id": "caroline-dealing",
   "metadata": {},
   "source": [
    "The Ultimate Guide to Convolutional Neural Networks (CNN) - https://www.superdatascience.com/blogs/the-ultimate-guide-to-convolutional-neural-networks-cnn\n"
   ]
  },
  {
   "cell_type": "markdown",
   "id": "conscious-offense",
   "metadata": {},
   "source": [
    "# Plan of attack\n",
    "1. What are Convolution Neural Network?\n",
    "2. Step 1 - Convolution Operation\n",
    "3. Step 1(b) - ReLu Operation\n",
    "4. Step 2 -Pooling\n",
    "5. Step 3 - Flattening\n",
    "6. Step 4 - Full Connection"
   ]
  },
  {
   "cell_type": "markdown",
   "id": "monetary-income",
   "metadata": {},
   "source": [
    "## Convolution Vizualization\n",
    "https://www.cs.ryerson.ca/~aharley/vis/conv/flat.html"
   ]
  },
  {
   "cell_type": "markdown",
   "id": "focal-planet",
   "metadata": {},
   "source": [
    "## 9 Deep Learning Papers\n",
    "https://adeshpande3.github.io/The-9-Deep-Learning-Papers-You-Need-To-Know-About.html"
   ]
  },
  {
   "cell_type": "code",
   "execution_count": null,
   "id": "effective-yacht",
   "metadata": {},
   "outputs": [],
   "source": []
  }
 ],
 "metadata": {
  "kernelspec": {
   "display_name": "Python 3",
   "language": "python",
   "name": "python3"
  },
  "language_info": {
   "codemirror_mode": {
    "name": "ipython",
    "version": 3
   },
   "file_extension": ".py",
   "mimetype": "text/x-python",
   "name": "python",
   "nbconvert_exporter": "python",
   "pygments_lexer": "ipython3",
   "version": "3.8.8"
  }
 },
 "nbformat": 4,
 "nbformat_minor": 5
}
